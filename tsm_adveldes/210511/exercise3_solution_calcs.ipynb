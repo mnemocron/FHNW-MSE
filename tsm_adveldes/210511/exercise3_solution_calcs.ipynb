{
 "cells": [
  {
   "cell_type": "code",
   "execution_count": 1,
   "metadata": {},
   "outputs": [],
   "source": [
    "%matplotlib notebook\n",
    "from sympy import *\n",
    "import matplotlib.pyplot as plt"
   ]
  },
  {
   "cell_type": "markdown",
   "metadata": {},
   "source": [
    "I first replicate my hand calculations to make sure that they are correct:"
   ]
  },
  {
   "cell_type": "code",
   "execution_count": 2,
   "metadata": {},
   "outputs": [],
   "source": [
    "Y2,Z2,Y3,Z3 = symbols('Y2,Z2,Y3,Z3')\n",
    "eqdpi = [(Z2,1/Y2),\n",
    "         (Z3,1/Y3)]\n",
    "G1,G2,G3,G4,C1,C2,K,s = symbols('G1,G2,G3,G4,C1,C2,K,s')\n",
    "eqdpa = [(Y2,G1+G2+G3+s*C1),\n",
    "         (Y3,G2+G4+s*C2)]\n",
    "L1,L2,Delta = symbols('L1,L2,Delta')\n",
    "eqloops = [(L1,G2**2*Z2*Z3),\n",
    "           (L2,-K*G2*G3*Z2*Z3)]"
   ]
  },
  {
   "cell_type": "markdown",
   "metadata": {},
   "source": [
    "Now the denomiantor:"
   ]
  },
  {
   "cell_type": "code",
   "execution_count": 3,
   "metadata": {},
   "outputs": [
    {
     "data": {
      "text/latex": [
       "$\\displaystyle \\frac{- G_{2}^{2} + G_{2} G_{3} K + \\left(C_{2} s + G_{2} + G_{4}\\right) \\left(C_{1} s + G_{1} + G_{2} + G_{3}\\right)}{C_{1} C_{2}}$"
      ],
      "text/plain": [
       "(-G2**2 + G2*G3*K + (C2*s + G2 + G4)*(C1*s + G1 + G2 + G3))/(C1*C2)"
      ]
     },
     "execution_count": 3,
     "metadata": {},
     "output_type": "execute_result"
    }
   ],
   "source": [
    "d_T = ( Y2*Y3*(1-L1-L2)/C1/C2 ) .subs(eqloops) .subs(eqdpi) . subs(eqdpa) .simplify()\n",
    "d_T"
   ]
  },
  {
   "cell_type": "code",
   "execution_count": 4,
   "metadata": {},
   "outputs": [
    {
     "data": {
      "text/plain": [
       "[1,\n",
       " (C1*G2 + C1*G4 + C2*G1 + C2*G2 + C2*G3)/(C1*C2),\n",
       " (G1*G2 + G1*G4 + G2*G3*K + G2*G3 + G2*G4 + G3*G4)/(C1*C2)]"
      ]
     },
     "execution_count": 4,
     "metadata": {},
     "output_type": "execute_result"
    }
   ],
   "source": [
    "d_T_p = poly(d_T,s)\n",
    "a2,a1,a0 = symbols('a2,a1,a0')\n",
    "[a2,a1,a0] = d_T_p.all_coeffs()\n",
    "[a2,a1,a0]"
   ]
  },
  {
   "cell_type": "code",
   "execution_count": 5,
   "metadata": {},
   "outputs": [
    {
     "data": {
      "text/latex": [
       "$\\displaystyle - \\frac{G_{1} G_{2} K}{C_{1} C_{2}}$"
      ],
      "text/plain": [
       "-G1*G2*K/(C1*C2)"
      ]
     },
     "execution_count": 5,
     "metadata": {},
     "output_type": "execute_result"
    }
   ],
   "source": [
    "P1 = -K*G1*Z2*G2*Z3\n",
    "D1 = 1\n",
    "n_T = ( Y2*Y3*P1*D1/C1/C2 ) .subs(eqloops) .subs(eqdpi) . subs(eqdpa) .simplify()\n",
    "n_T"
   ]
  },
  {
   "cell_type": "markdown",
   "metadata": {},
   "source": [
    "So far it is the same as my manual solution. Let's calculate the squared versions of wp and qp and check the simplified solution. (A hint to understand the eqqp line: an equation in SymPy is just written as one term that is supposed to be zero. Therefore, x=y is written as [-x+y].)"
   ]
  },
  {
   "cell_type": "code",
   "execution_count": 6,
   "metadata": {},
   "outputs": [
    {
     "data": {
      "text/latex": [
       "$\\displaystyle \\frac{C_{1} C_{2} \\left(G_{1} G_{2} + G_{1} G_{4} + G_{2} G_{3} K + G_{2} G_{3} + G_{2} G_{4} + G_{3} G_{4}\\right)}{C_{1}^{2} G_{2}^{2} + 2 C_{1}^{2} G_{2} G_{4} + C_{1}^{2} G_{4}^{2} + 2 C_{1} C_{2} G_{1} G_{2} + 2 C_{1} C_{2} G_{1} G_{4} + 2 C_{1} C_{2} G_{2}^{2} + 2 C_{1} C_{2} G_{2} G_{3} + 2 C_{1} C_{2} G_{2} G_{4} + 2 C_{1} C_{2} G_{3} G_{4} + C_{2}^{2} G_{1}^{2} + 2 C_{2}^{2} G_{1} G_{2} + 2 C_{2}^{2} G_{1} G_{3} + C_{2}^{2} G_{2}^{2} + 2 C_{2}^{2} G_{2} G_{3} + C_{2}^{2} G_{3}^{2}}$"
      ],
      "text/plain": [
       "C1*C2*(G1*G2 + G1*G4 + G2*G3*K + G2*G3 + G2*G4 + G3*G4)/(C1**2*G2**2 + 2*C1**2*G2*G4 + C1**2*G4**2 + 2*C1*C2*G1*G2 + 2*C1*C2*G1*G4 + 2*C1*C2*G2**2 + 2*C1*C2*G2*G3 + 2*C1*C2*G2*G4 + 2*C1*C2*G3*G4 + C2**2*G1**2 + 2*C2**2*G1*G2 + 2*C2**2*G1*G3 + C2**2*G2**2 + 2*C2**2*G2*G3 + C2**2*G3**2)"
      ]
     },
     "execution_count": 6,
     "metadata": {},
     "output_type": "execute_result"
    }
   ],
   "source": [
    "wp,qp,wp2,qp2,k = symbols('wp,qp,wp2,qp2,k')\n",
    "wp2 = a0\n",
    "eqqp = [ -wp2/qp2 + a1**2 ]\n",
    "qp2 = solve( eqqp, [qp2] )[qp2]\n",
    "qp2"
   ]
  },
  {
   "cell_type": "code",
   "execution_count": 7,
   "metadata": {},
   "outputs": [
    {
     "data": {
      "text/latex": [
       "$\\displaystyle - \\frac{G_{1} G_{2} K}{G_{1} G_{2} + G_{1} G_{4} + G_{2} G_{3} K + G_{2} G_{3} + G_{2} G_{4} + G_{3} G_{4}}$"
      ],
      "text/plain": [
       "-G1*G2*K/(G1*G2 + G1*G4 + G2*G3*K + G2*G3 + G2*G4 + G3*G4)"
      ]
     },
     "execution_count": 7,
     "metadata": {},
     "output_type": "execute_result"
    }
   ],
   "source": [
    "eqT0 = [ -k*wp2 + n_T ]\n",
    "T0 = solve( eqT0, [k] )[k]\n",
    "T0"
   ]
  },
  {
   "cell_type": "code",
   "execution_count": 8,
   "metadata": {},
   "outputs": [
    {
     "data": {
      "text/latex": [
       "$\\displaystyle \\frac{G^{2} \\left(K + 5\\right)}{C^{2}}$"
      ],
      "text/plain": [
       "G**2*(K + 5)/C**2"
      ]
     },
     "execution_count": 8,
     "metadata": {},
     "output_type": "execute_result"
    }
   ],
   "source": [
    "G,C = symbols('G,C')\n",
    "eqequal = [(G1,G),(G2,G),(G3,G),(G4,G),(C1,C),(C2,C)]\n",
    "wp2e = wp2 .subs(eqequal) .simplify()\n",
    "wp2e"
   ]
  },
  {
   "cell_type": "code",
   "execution_count": 9,
   "metadata": {},
   "outputs": [
    {
     "data": {
      "text/latex": [
       "$\\displaystyle \\frac{K}{25} + \\frac{1}{5}$"
      ],
      "text/plain": [
       "K/25 + 1/5"
      ]
     },
     "execution_count": 9,
     "metadata": {},
     "output_type": "execute_result"
    }
   ],
   "source": [
    "qp2e = qp2 .subs(eqequal) .simplify()\n",
    "qp2e"
   ]
  },
  {
   "cell_type": "code",
   "execution_count": 10,
   "metadata": {},
   "outputs": [
    {
     "data": {
      "text/latex": [
       "$\\displaystyle - \\frac{K}{K + 5}$"
      ],
      "text/plain": [
       "-K/(K + 5)"
      ]
     },
     "execution_count": 10,
     "metadata": {},
     "output_type": "execute_result"
    }
   ],
   "source": [
    "T0e = T0 .subs(eqequal) .simplify()\n",
    "T0e"
   ]
  },
  {
   "cell_type": "markdown",
   "metadata": {},
   "source": [
    "Still the same. Can we design it with equal components? Let's try with qp2:"
   ]
  },
  {
   "cell_type": "code",
   "execution_count": 11,
   "metadata": {},
   "outputs": [
    {
     "data": {
      "text/latex": [
       "$\\displaystyle 620$"
      ],
      "text/plain": [
       "620"
      ]
     },
     "execution_count": 11,
     "metadata": {},
     "output_type": "execute_result"
    }
   ],
   "source": [
    "Ks = solve( -25 + qp2e, [K])[0]\n",
    "Ks"
   ]
  },
  {
   "cell_type": "markdown",
   "metadata": {},
   "source": [
    "Now we call the frequency G/C = 2 pi fx:"
   ]
  },
  {
   "cell_type": "code",
   "execution_count": 12,
   "metadata": {},
   "outputs": [
    {
     "data": {
      "text/plain": [
       "[(G, 2*pi*C*fx)]"
      ]
     },
     "execution_count": 12,
     "metadata": {},
     "output_type": "execute_result"
    }
   ],
   "source": [
    "fx = symbols('fx')\n",
    "subsG = [(G,solve( -2*pi*fx + G/C , G) [0])]\n",
    "subsG"
   ]
  },
  {
   "cell_type": "code",
   "execution_count": 13,
   "metadata": {},
   "outputs": [
    {
     "data": {
      "text/latex": [
       "$\\displaystyle 2500 \\pi^{2} fx^{2}$"
      ],
      "text/plain": [
       "2500*pi**2*fx**2"
      ]
     },
     "execution_count": 13,
     "metadata": {},
     "output_type": "execute_result"
    }
   ],
   "source": [
    "wp2s = wp2e .subs([(K,Ks)]) .subs(subsG)\n",
    "wp2s"
   ]
  },
  {
   "cell_type": "markdown",
   "metadata": {},
   "source": [
    "This shall be 2kHz, so:"
   ]
  },
  {
   "cell_type": "code",
   "execution_count": 14,
   "metadata": {},
   "outputs": [
    {
     "data": {
      "text/latex": [
       "$\\displaystyle 80.0$"
      ],
      "text/plain": [
       "80.0000000000000"
      ]
     },
     "execution_count": 14,
     "metadata": {},
     "output_type": "execute_result"
    }
   ],
   "source": [
    "fxs = solve( -(2*pi*2.0e3)**2 + wp2s , fx )[1]\n",
    "fxs"
   ]
  },
  {
   "cell_type": "markdown",
   "metadata": {},
   "source": [
    "So the frequency G/C is rather low. Let's take 1k resistors in order to not have too much noise:"
   ]
  },
  {
   "cell_type": "code",
   "execution_count": 15,
   "metadata": {},
   "outputs": [
    {
     "data": {
      "text/latex": [
       "$\\displaystyle 1.98943678864869 \\cdot 10^{-6}$"
      ],
      "text/plain": [
       "1.98943678864869e-6"
      ]
     },
     "execution_count": 15,
     "metadata": {},
     "output_type": "execute_result"
    }
   ],
   "source": [
    "Cval = N(1/(1.0e3*2*pi*fxs))\n",
    "Cval"
   ]
  },
  {
   "cell_type": "markdown",
   "metadata": {},
   "source": [
    "So C is 2uF, all resistor values are 1k, and the feedback resistor KR4 is 620k. Unfortunately, the DC gain is"
   ]
  },
  {
   "cell_type": "code",
   "execution_count": 16,
   "metadata": {},
   "outputs": [
    {
     "data": {
      "text/latex": [
       "$\\displaystyle - \\frac{124}{125}$"
      ],
      "text/plain": [
       "-124/125"
      ]
     },
     "execution_count": 16,
     "metadata": {},
     "output_type": "execute_result"
    }
   ],
   "source": [
    "T0enum = T0e .subs([(K,Ks)])\n",
    "T0enum"
   ]
  },
  {
   "cell_type": "markdown",
   "metadata": {},
   "source": [
    "I see no way to give this a DC gain of 0dB. That would not even be possible with an ideal amplifier -K without input resistance, i.e. G4=0:"
   ]
  },
  {
   "cell_type": "code",
   "execution_count": 17,
   "metadata": {},
   "outputs": [
    {
     "data": {
      "text/latex": [
       "$\\displaystyle - \\frac{K}{K + 2}$"
      ],
      "text/plain": [
       "-K/(K + 2)"
      ]
     },
     "execution_count": 17,
     "metadata": {},
     "output_type": "execute_result"
    }
   ],
   "source": [
    "T0 .subs([(G4,0)]) .subs(eqequal) .simplify()"
   ]
  },
  {
   "cell_type": "code",
   "execution_count": 18,
   "metadata": {},
   "outputs": [
    {
     "data": {
      "text/latex": [
       "$\\displaystyle - \\frac{310}{311}$"
      ],
      "text/plain": [
       "-310/311"
      ]
     },
     "execution_count": 18,
     "metadata": {},
     "output_type": "execute_result"
    }
   ],
   "source": [
    "T0 .subs([(G4,0)]) .subs(eqequal) .simplify() .subs([(K,Ks)])"
   ]
  },
  {
   "cell_type": "markdown",
   "metadata": {},
   "source": [
    "But I guess T0e is close enough to 0dB :)"
   ]
  },
  {
   "cell_type": "code",
   "execution_count": 19,
   "metadata": {},
   "outputs": [
    {
     "data": {
      "text/latex": [
       "$\\displaystyle -0.0697665569164269$"
      ],
      "text/plain": [
       "-0.0697665569164269"
      ]
     },
     "execution_count": 19,
     "metadata": {},
     "output_type": "execute_result"
    }
   ],
   "source": [
    "N(20*log(-T0enum,10))"
   ]
  },
  {
   "cell_type": "code",
   "execution_count": null,
   "metadata": {},
   "outputs": [],
   "source": []
  }
 ],
 "metadata": {
  "kernelspec": {
   "display_name": "Python 3",
   "language": "python",
   "name": "python3"
  },
  "language_info": {
   "codemirror_mode": {
    "name": "ipython",
    "version": 3
   },
   "file_extension": ".py",
   "mimetype": "text/x-python",
   "name": "python",
   "nbconvert_exporter": "python",
   "pygments_lexer": "ipython3",
   "version": "3.8.8"
  }
 },
 "nbformat": 4,
 "nbformat_minor": 2
}

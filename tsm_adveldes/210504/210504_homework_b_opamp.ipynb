{
 "cells": [
  {
   "cell_type": "markdown",
   "id": "a3f30a7c",
   "metadata": {},
   "source": [
    "# Homework: b)\n",
    "Simon Burkhardt, FHNW/ISE, 05.05.2021"
   ]
  },
  {
   "cell_type": "markdown",
   "id": "29b8f04d",
   "metadata": {},
   "source": [
    "b) Look at the following citcuit:\n",
    "\n",
    "<img src=\"Schematic_GxGy.png\" alt=\"sfg\" width=\"400\"/>\n",
    "\n",
    "The goal is to calculate the current through Gy. Proceed as follows:\n",
    "\n",
    "1. Calculate the voltage across $G_y$ for general $A$ using a DPSDG.\n",
    "2. From that, calculate the current through $G_y$.\n",
    "3. Simplify for $A → ∞$. What value do you have to choose for $G_x$ such that the current through $G_y$ does not depend on $G_y$ anymore?\n",
    "4. For that choice of $G_x$ and $A \\approx \\frac{\\omega_1}{s}$, what is the bandwidth of the circuit?\n",
    "\n",
    "<img src=\"SFG_GxGy.png\" alt=\"sfg\" width=\"600\"/>\n"
   ]
  },
  {
   "cell_type": "code",
   "execution_count": 9,
   "id": "40e507f3",
   "metadata": {},
   "outputs": [],
   "source": [
    "%matplotlib notebook\n",
    "import sympy as sp\n",
    "import numpy as np\n",
    "import math\n",
    "import scipy as sc\n",
    "import scipy.signal\n",
    "import matplotlib.pyplot as plt\n",
    "import hanspitools as ht\n",
    "def niceT(T,s): # This is a shortcut for a functionality I use very often\n",
    "    return ht.mani.numden(lambda p: ht.mani.nicepoly(p,s),T)\n",
    "def keeper(f,v):\n",
    "    return sp.limit(f/v,v,sp.oo)*v"
   ]
  },
  {
   "cell_type": "code",
   "execution_count": 16,
   "id": "d6ce8c63",
   "metadata": {},
   "outputs": [
    {
     "data": {
      "text/latex": [
       "$\\displaystyle \\frac{Gx Z_{2} \\left(A G Z_{4} + 1\\right)}{- A G Z_{2} + A G Z_{4} + 1}$"
      ],
      "text/plain": [
       "Gx*Z2*(A*G*Z4 + 1)/(-A*G*Z2 + A*G*Z4 + 1)"
      ]
     },
     "metadata": {},
     "output_type": "display_data"
    }
   ],
   "source": [
    "import sympy as sp\n",
    "Delta = sp.symbols('Delta')\n",
    "L1,L2 = sp.symbols('L1,L2')\n",
    "T_num = sp.symbols('T_num')\n",
    "T_den = sp.symbols('T_den')\n",
    "T_io = sp.symbols('T_io')\n",
    "Z2,A,G,Z4,Gx = sp.symbols('Z2,A,G,Z4,Gx')\n",
    "\n",
    "loops = [(L1, -A*G*Z4), (L2, A*G*Z2)]\n",
    "determinant = [(Delta, -L1 - L2 + 1)]\n",
    "denominator = [(T_den, Delta)]\n",
    "\n",
    "P1,D1 = sp.symbols('P1,D1')\n",
    "paths = [(P1, Gx*Z2), (D1, 1 - L1)]\n",
    "numerator = [(T_num, D1*P1)]\n",
    "\n",
    "transfer_function = [(T_io, T_num/T_den)]\n",
    "T=T_io.subs(transfer_function).subs(numerator).subs(denominator).subs(determinant).subs(paths).subs(loops).simplify()\n",
    "display(T)"
   ]
  },
  {
   "cell_type": "code",
   "execution_count": 23,
   "id": "77d64a6b",
   "metadata": {},
   "outputs": [
    {
     "data": {
      "text/latex": [
       "$\\displaystyle \\frac{Gx \\left(A + 2\\right)}{- 2 A G + A \\left(G + Gx + Gy\\right) + 2 G + 2 Gx + 2 Gy}$"
      ],
      "text/plain": [
       "Gx*(A + 2)/(-2*A*G + A*(G + Gx + Gy) + 2*G + 2*Gx + 2*Gy)"
      ]
     },
     "metadata": {},
     "output_type": "display_data"
    }
   ],
   "source": [
    "Y2,Y4,Vin=sp.symbols('Y2,Y4,Vin')\n",
    "Gy,s,omega1 = sp.symbols('Gy,s,omega1')\n",
    "eqY2 = [(Y2, (Gx+Gy+G))] # is this correct +/- ?\n",
    "eqY4 = [(Y4, (G+G))]\n",
    "eqZ2 = [(Z2, 1/Y2)]\n",
    "eqZ4 = [(Z4, 1/Y4)]\n",
    "amp = [(A,  omega1/s)]\n",
    "T_w = T.subs(eqZ2).subs(eqZ4).simplify()\n",
    "T_w = T_w.subs(eqY2).subs(eqY4).simplify()\n",
    "display(T_w)"
   ]
  },
  {
   "cell_type": "code",
   "execution_count": 29,
   "id": "ffd2074c",
   "metadata": {},
   "outputs": [
    {
     "data": {
      "text/latex": [
       "$\\displaystyle \\frac{Gx Gy Vin \\left(A + 2\\right)}{- 2 A G + A \\left(G + Gx + Gy\\right) + 2 G + 2 Gx + 2 Gy}$"
      ],
      "text/plain": [
       "Gx*Gy*Vin*(A + 2)/(-2*A*G + A*(G + Gx + Gy) + 2*G + 2*Gx + 2*Gy)"
      ]
     },
     "metadata": {},
     "output_type": "display_data"
    }
   ],
   "source": [
    "# 1. calculate the voltage across Gy\n",
    "# Vy = V2 = Vin * T\n",
    "# 2. From that calculate the Current through Gy\n",
    "IGy = (T_w * Gy * Vin).simplify()\n",
    "display(IGy)"
   ]
  },
  {
   "cell_type": "code",
   "execution_count": 31,
   "id": "ca113b4a",
   "metadata": {},
   "outputs": [
    {
     "data": {
      "text/latex": [
       "$\\displaystyle - \\frac{Gx Gy Vin}{G - Gx - Gy}$"
      ],
      "text/plain": [
       "-Gx*Gy*Vin/(G - Gx - Gy)"
      ]
     },
     "metadata": {},
     "output_type": "display_data"
    }
   ],
   "source": [
    "# 3. Simplify for A → ∞\n",
    "IGys = sp.limit(IGy, A, sp.oo)\n",
    "display(IGys)"
   ]
  },
  {
   "cell_type": "code",
   "execution_count": 32,
   "id": "a6d04aeb",
   "metadata": {},
   "outputs": [
    {
     "data": {
      "text/latex": [
       "$\\displaystyle G Vin$"
      ],
      "text/plain": [
       "G*Vin"
      ]
     },
     "metadata": {},
     "output_type": "display_data"
    }
   ],
   "source": [
    "# What value do you have to choose for Gx such that the current through Gy does not depend on Gy anymore?\n",
    "IGyss = sp.limit(IGys, Gx, G)\n",
    "display(IGyss)"
   ]
  },
  {
   "cell_type": "markdown",
   "id": "683823de",
   "metadata": {},
   "source": [
    "### Task b) Bandwidth"
   ]
  },
  {
   "cell_type": "code",
   "execution_count": 48,
   "id": "73e47153",
   "metadata": {},
   "outputs": [
    {
     "data": {
      "text/latex": [
       "$\\displaystyle \\frac{2 G Gy Vin s + G Gy Vin w_{1}}{Gy w_{1} + 2 s \\left(2 G + Gy\\right)}$"
      ],
      "text/plain": [
       "(2*G*Gy*Vin*s + G*Gy*Vin*w1)/(Gy*w1 + 2*s*(2*G + Gy))"
      ]
     },
     "metadata": {},
     "output_type": "display_data"
    }
   ],
   "source": [
    "w1=sp.symbols('w1')\n",
    "IGyA = IGy.subs(A,w1/s).subs(Gx,G).simplify()\n",
    "display(niceT(IGyA,s))"
   ]
  },
  {
   "cell_type": "code",
   "execution_count": 56,
   "id": "de06d4d7",
   "metadata": {},
   "outputs": [
    {
     "data": {
      "text/latex": [
       "$\\displaystyle \\frac{Gy w_{1}}{4 G + 2 Gy}$"
      ],
      "text/plain": [
       "Gy*w1/(4*G + 2*Gy)"
      ]
     },
     "metadata": {},
     "output_type": "display_data"
    },
    {
     "data": {
      "text/latex": [
       "$\\displaystyle \\frac{w_{1}}{2}$"
      ],
      "text/plain": [
       "w1/2"
      ]
     },
     "metadata": {},
     "output_type": "display_data"
    }
   ],
   "source": [
    "num,den = sp.fraction(IGyA)\n",
    "wp = sp.solve(den, s)\n",
    "wz = sp.solve(num, s)\n",
    "display(-wp[0])\n",
    "display(-wz[0])\n"
   ]
  },
  {
   "cell_type": "markdown",
   "id": "ab7f9173",
   "metadata": {},
   "source": [
    "It is difficult to say what the exact bandwidth is, but if 2G is considerably larger than Gy (i.e., a big resistance is driven), then the pole dominates and the bandwidth is approximately"
   ]
  },
  {
   "cell_type": "code",
   "execution_count": 63,
   "id": "1e80a267",
   "metadata": {},
   "outputs": [
    {
     "data": {
      "text/latex": [
       "$\\displaystyle \\frac{Gy w_{1}}{4 G}$"
      ],
      "text/plain": [
       "Gy*w1/(4*G)"
      ]
     },
     "execution_count": 63,
     "metadata": {},
     "output_type": "execute_result"
    }
   ],
   "source": [
    "num,den=sp.fraction(-wp[0])\n",
    "BW = num / sp.limit(den,Gy,0)\n",
    "BW"
   ]
  },
  {
   "cell_type": "code",
   "execution_count": 65,
   "id": "40c1cf95",
   "metadata": {},
   "outputs": [
    {
     "data": {
      "text/latex": [
       "$\\displaystyle \\frac{0.000125 w_{1}}{\\pi}$"
      ],
      "text/plain": [
       "0.000125*w1/pi"
      ]
     },
     "execution_count": 65,
     "metadata": {},
     "output_type": "execute_result"
    }
   ],
   "source": [
    "( BW / (2*sp.pi) ).subs(G,1).subs(Gy,1e-3).simplify()"
   ]
  },
  {
   "cell_type": "code",
   "execution_count": null,
   "id": "c514c4ea",
   "metadata": {},
   "outputs": [],
   "source": []
  }
 ],
 "metadata": {
  "kernelspec": {
   "display_name": "Python 3",
   "language": "python",
   "name": "python3"
  },
  "language_info": {
   "codemirror_mode": {
    "name": "ipython",
    "version": 3
   },
   "file_extension": ".py",
   "mimetype": "text/x-python",
   "name": "python",
   "nbconvert_exporter": "python",
   "pygments_lexer": "ipython3",
   "version": "3.8.8"
  }
 },
 "nbformat": 4,
 "nbformat_minor": 5
}

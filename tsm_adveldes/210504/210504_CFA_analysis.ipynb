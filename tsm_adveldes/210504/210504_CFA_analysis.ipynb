{
 "cells": [
  {
   "cell_type": "markdown",
   "id": "ae6794b3",
   "metadata": {},
   "source": [
    "# Homework: Current Feedback Opamp\n",
    "Simon Burkhardt, FHNW/ISE, 05.05.2021"
   ]
  },
  {
   "cell_type": "markdown",
   "id": "1b484235",
   "metadata": {},
   "source": [
    "<img src=\"CFA_Textbook.png\" alt=\"schematic\" width=\"600\"/>"
   ]
  },
  {
   "cell_type": "markdown",
   "id": "6526b6ee",
   "metadata": {},
   "source": [
    "<img src=\"SFG_CFA.png\" alt=\"sfg\" width=\"800\"/>"
   ]
  },
  {
   "cell_type": "code",
   "execution_count": 1,
   "id": "e0c3643d",
   "metadata": {},
   "outputs": [],
   "source": [
    "%matplotlib notebook\n",
    "import sympy as sp\n",
    "import numpy as np\n",
    "import math\n",
    "import scipy as sc\n",
    "import scipy.signal\n",
    "import matplotlib.pyplot as plt\n",
    "import hanspitools as ht\n",
    "def niceT(T,s): # This is a shortcut for a functionality I use very often\n",
    "    return ht.mani.numden(lambda p: ht.mani.nicepoly(p,s),T)\n",
    "def keeper(f,v):\n",
    "    return sp.limit(f/v,v,sp.oo)*v"
   ]
  },
  {
   "cell_type": "code",
   "execution_count": 3,
   "id": "b5525470",
   "metadata": {},
   "outputs": [
    {
     "data": {
      "text/latex": [
       "$\\displaystyle \\frac{G_{1} + G_{2}}{G_{2} - Y_{4}}$"
      ],
      "text/plain": [
       "(G1 + G2)/(G2 - Y4)"
      ]
     },
     "metadata": {},
     "output_type": "display_data"
    }
   ],
   "source": [
    "import sympy as sp\n",
    "Delta = sp.symbols('Delta')\n",
    "L1 = sp.symbols('L1')\n",
    "T_num = sp.symbols('T_num')\n",
    "T_den = sp.symbols('T_den')\n",
    "T_io = sp.symbols('T_io')\n",
    "G1,Y4,G2 = sp.symbols('G1,Y4,G2')\n",
    "\n",
    "loops = [(L1, G2/Y4)]\n",
    "determinant = [(Delta, 1 - L1)]\n",
    "denominator = [(T_den, Delta)]\n",
    "\n",
    "P1,D1 = sp.symbols('P1,D1')\n",
    "paths = [(P1, (-G1 - G2)/Y4), (D1, 1)]\n",
    "numerator = [(T_num, D1*P1)]\n",
    "\n",
    "transfer_function = [(T_io, T_num/T_den)]\n",
    "T=T_io.subs(transfer_function).subs(numerator).subs(denominator).subs(determinant).subs(paths).subs(loops).simplify()\n",
    "display(T)"
   ]
  },
  {
   "cell_type": "code",
   "execution_count": 13,
   "id": "12a040f5",
   "metadata": {},
   "outputs": [
    {
     "data": {
      "text/plain": [
       "(T_io, T_num/T_den)"
      ]
     },
     "execution_count": 13,
     "metadata": {},
     "output_type": "execute_result"
    }
   ],
   "source": [
    "Z4,s,Cm,Rm=sp.symbols('Z4,s,Cm,Rm')\n",
    "eqZ4 = [(Z4, 1/Y4)]\n",
    "eqY4 = [(Y4, s*Cm)]\n",
    "Tm = T_io.subs(eqZ4).subs(eqY4).simplify()\n",
    "transfer_function[0]"
   ]
  },
  {
   "cell_type": "code",
   "execution_count": null,
   "id": "f4ce6752",
   "metadata": {},
   "outputs": [],
   "source": []
  }
 ],
 "metadata": {
  "kernelspec": {
   "display_name": "Python 3",
   "language": "python",
   "name": "python3"
  },
  "language_info": {
   "codemirror_mode": {
    "name": "ipython",
    "version": 3
   },
   "file_extension": ".py",
   "mimetype": "text/x-python",
   "name": "python",
   "nbconvert_exporter": "python",
   "pygments_lexer": "ipython3",
   "version": "3.8.8"
  }
 },
 "nbformat": 4,
 "nbformat_minor": 5
}

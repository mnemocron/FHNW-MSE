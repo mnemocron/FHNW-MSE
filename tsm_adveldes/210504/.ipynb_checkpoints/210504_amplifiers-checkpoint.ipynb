{
 "cells": [
  {
   "cell_type": "markdown",
   "id": "4d838b51",
   "metadata": {},
   "source": [
    "# About amplifiers\n",
    "Hanspeter Schmid, FHNW/ISE, 4.5.21"
   ]
  },
  {
   "cell_type": "code",
   "execution_count": 1,
   "id": "64dddbf8",
   "metadata": {},
   "outputs": [],
   "source": [
    "%matplotlib notebook\n",
    "import sympy as sp\n",
    "import numpy as np\n",
    "import math\n",
    "import scipy as sc\n",
    "import scipy.signal\n",
    "import matplotlib.pyplot as plt\n",
    "import hanspitools as ht\n",
    "def niceT(T,s): # This is a shortcut for a functionality I use very often\n",
    "    return ht.mani.numden(lambda p: ht.mani.nicepoly(p,s),T)\n",
    "def keeper(f,v):\n",
    "    return sp.limit(f/v,v,sp.oo)*v"
   ]
  },
  {
   "cell_type": "code",
   "execution_count": 2,
   "id": "3ed3afb1",
   "metadata": {},
   "outputs": [
    {
     "data": {
      "text/latex": [
       "$\\displaystyle \\frac{A Y_{1}}{A G_{2} + Y_{1}}$"
      ],
      "text/plain": [
       "A*Y1/(A*G2 + Y1)"
      ]
     },
     "metadata": {},
     "output_type": "display_data"
    }
   ],
   "source": [
    "import sympy as sp\n",
    "Delta = sp.symbols('Delta')\n",
    "L1 = sp.symbols('L1')\n",
    "T_num = sp.symbols('T_num')\n",
    "T_den = sp.symbols('T_den')\n",
    "T_io = sp.symbols('T_io')\n",
    "A,G2,Y1 = sp.symbols('A,G2,Y1')\n",
    "\n",
    "loops = [(L1, -A*G2/Y1)]\n",
    "determinant = [(Delta, 1 - L1)]\n",
    "denominator = [(T_den, Delta)]\n",
    "\n",
    "P1,D1 = sp.symbols('P1,D1')\n",
    "paths = [(P1, A), (D1, 1)]\n",
    "numerator = [(T_num, D1*P1)]\n",
    "\n",
    "transfer_function = [(T_io, T_num/T_den)]\n",
    "T=T_io.subs(transfer_function).subs(numerator).subs(denominator).subs(determinant).subs(paths).subs(loops).simplify()\n",
    "display(T)"
   ]
  },
  {
   "cell_type": "code",
   "execution_count": 3,
   "id": "14270a65",
   "metadata": {},
   "outputs": [],
   "source": [
    "G1,s,omega1 = sp.symbols('G1,s,omega1')\n",
    "dpa = [(Y1, G1+G2)]\n",
    "amp = [(A,  omega1/s)]"
   ]
  },
  {
   "cell_type": "code",
   "execution_count": 4,
   "id": "0301f846",
   "metadata": {},
   "outputs": [
    {
     "data": {
      "text/latex": [
       "$\\displaystyle \\frac{A \\left(G_{1} + G_{2}\\right)}{A G_{2} + G_{1} + G_{2}}$"
      ],
      "text/plain": [
       "A*(G1 + G2)/(A*G2 + G1 + G2)"
      ]
     },
     "execution_count": 4,
     "metadata": {},
     "output_type": "execute_result"
    }
   ],
   "source": [
    "T.subs(dpa)"
   ]
  },
  {
   "cell_type": "code",
   "execution_count": 5,
   "id": "7abf4ae5",
   "metadata": {},
   "outputs": [
    {
     "data": {
      "text/latex": [
       "$\\displaystyle \\frac{\\omega_{1} \\left(G_{1} + G_{2}\\right)}{G_{2} \\omega_{1} + s \\left(G_{1} + G_{2}\\right)}$"
      ],
      "text/plain": [
       "omega1*(G1 + G2)/(G2*omega1 + s*(G1 + G2))"
      ]
     },
     "execution_count": 5,
     "metadata": {},
     "output_type": "execute_result"
    }
   ],
   "source": [
    "T_w = T.subs(dpa).subs(amp).simplify()\n",
    "T_w"
   ]
  },
  {
   "cell_type": "markdown",
   "id": "80ce53f6",
   "metadata": {},
   "source": [
    "DC gain"
   ]
  },
  {
   "cell_type": "code",
   "execution_count": 6,
   "id": "ef3505f0",
   "metadata": {},
   "outputs": [
    {
     "data": {
      "text/latex": [
       "$\\displaystyle \\frac{G_{1} + G_{2}}{G_{2}}$"
      ],
      "text/plain": [
       "(G1 + G2)/G2"
      ]
     },
     "execution_count": 6,
     "metadata": {},
     "output_type": "execute_result"
    }
   ],
   "source": [
    "T_DC = T_w.subs(s,0)\n",
    "T_DC"
   ]
  },
  {
   "cell_type": "markdown",
   "id": "b867f277",
   "metadata": {},
   "source": [
    "BW of 1st-order lowpass filter: frequency of the pole"
   ]
  },
  {
   "cell_type": "code",
   "execution_count": 7,
   "id": "e30b03ca",
   "metadata": {},
   "outputs": [
    {
     "data": {
      "text/latex": [
       "$\\displaystyle G_{2} \\omega_{1} + s \\left(G_{1} + G_{2}\\right)$"
      ],
      "text/plain": [
       "G2*omega1 + s*(G1 + G2)"
      ]
     },
     "execution_count": 7,
     "metadata": {},
     "output_type": "execute_result"
    }
   ],
   "source": [
    "[n,d] = sp.fraction(T_w)\n",
    "d"
   ]
  },
  {
   "cell_type": "code",
   "execution_count": 8,
   "id": "faec4e82",
   "metadata": {},
   "outputs": [
    {
     "data": {
      "text/latex": [
       "$\\displaystyle \\frac{G_{2} \\omega_{1}}{G_{1} + G_{2}}$"
      ],
      "text/plain": [
       "G2*omega1/(G1 + G2)"
      ]
     },
     "execution_count": 8,
     "metadata": {},
     "output_type": "execute_result"
    }
   ],
   "source": [
    "T_BW = -sp.solve(d,s)[0]\n",
    "T_BW"
   ]
  },
  {
   "cell_type": "markdown",
   "id": "3919f1e9",
   "metadata": {},
   "source": [
    "Gain-bandwidth product"
   ]
  },
  {
   "cell_type": "code",
   "execution_count": 9,
   "id": "558cb9df",
   "metadata": {},
   "outputs": [
    {
     "data": {
      "text/latex": [
       "$\\displaystyle \\omega_{1}$"
      ],
      "text/plain": [
       "omega1"
      ]
     },
     "execution_count": 9,
     "metadata": {},
     "output_type": "execute_result"
    }
   ],
   "source": [
    "T_DC*T_BW"
   ]
  },
  {
   "cell_type": "markdown",
   "id": "7a1edf04",
   "metadata": {},
   "source": [
    "Negative amplifier ($V_4 \\to V_o$)"
   ]
  },
  {
   "cell_type": "code",
   "execution_count": 10,
   "id": "7c700bb5",
   "metadata": {},
   "outputs": [
    {
     "data": {
      "text/latex": [
       "$\\displaystyle - \\frac{A G_{1}}{A G_{2} + Y_{1}}$"
      ],
      "text/plain": [
       "-A*G1/(A*G2 + Y1)"
      ]
     },
     "metadata": {},
     "output_type": "display_data"
    }
   ],
   "source": [
    "P1,D1 = sp.symbols('P1,D1')\n",
    "paths = [(P1, -A*G1/Y1), (D1, 1)]\n",
    "numerator = [(T_num, D1*P1)]\n",
    "\n",
    "transfer_function = [(T_io, T_num/T_den)]\n",
    "T_m=T_io.subs(transfer_function).subs(numerator).subs(denominator).subs(determinant).subs(paths).subs(loops).simplify()\n",
    "display(T_m)"
   ]
  },
  {
   "cell_type": "code",
   "execution_count": 11,
   "id": "52942db0",
   "metadata": {},
   "outputs": [
    {
     "data": {
      "text/latex": [
       "$\\displaystyle - \\frac{G_{1} \\omega_{1}}{G_{2} \\omega_{1} + s \\left(G_{1} + G_{2}\\right)}$"
      ],
      "text/plain": [
       "-G1*omega1/(G2*omega1 + s*(G1 + G2))"
      ]
     },
     "execution_count": 11,
     "metadata": {},
     "output_type": "execute_result"
    }
   ],
   "source": [
    "T_m_w = T_m.subs(dpa).subs(amp).simplify()\n",
    "T_m_w"
   ]
  },
  {
   "cell_type": "code",
   "execution_count": 12,
   "id": "d9a2914b",
   "metadata": {},
   "outputs": [
    {
     "data": {
      "text/latex": [
       "$\\displaystyle - \\frac{G_{1}}{G_{2}}$"
      ],
      "text/plain": [
       "-G1/G2"
      ]
     },
     "execution_count": 12,
     "metadata": {},
     "output_type": "execute_result"
    }
   ],
   "source": [
    "T_m_w.subs(s,0)"
   ]
  },
  {
   "cell_type": "code",
   "execution_count": 13,
   "id": "bd63d5ab",
   "metadata": {},
   "outputs": [
    {
     "data": {
      "text/latex": [
       "$\\displaystyle - \\frac{G_{1} \\omega_{1}}{G_{1} + G_{2}}$"
      ],
      "text/plain": [
       "-G1*omega1/(G1 + G2)"
      ]
     },
     "execution_count": 13,
     "metadata": {},
     "output_type": "execute_result"
    }
   ],
   "source": [
    "T_m_w.subs(s,0)*T_BW"
   ]
  },
  {
   "cell_type": "markdown",
   "id": "9effaa74",
   "metadata": {},
   "source": [
    "Loop gain"
   ]
  },
  {
   "cell_type": "code",
   "execution_count": 14,
   "id": "4c8aa399",
   "metadata": {},
   "outputs": [
    {
     "data": {
      "text/latex": [
       "$\\displaystyle \\frac{A G_{2}}{G_{1} + G_{2}}$"
      ],
      "text/plain": [
       "A*G2/(G1 + G2)"
      ]
     },
     "execution_count": 14,
     "metadata": {},
     "output_type": "execute_result"
    }
   ],
   "source": [
    "-L1.subs(loops).subs(dpa)"
   ]
  },
  {
   "cell_type": "markdown",
   "id": "a99f2305",
   "metadata": {},
   "source": [
    "## OpAmp with output resistance"
   ]
  },
  {
   "cell_type": "code",
   "execution_count": 15,
   "id": "84addb97",
   "metadata": {},
   "outputs": [
    {
     "data": {
      "text/latex": [
       "$\\displaystyle \\frac{Y_{1}}{A G_{0} G_{2} + Y_{1} Y_{3}}$"
      ],
      "text/plain": [
       "Y1/(A*G0*G2 + Y1*Y3)"
      ]
     },
     "metadata": {},
     "output_type": "display_data"
    }
   ],
   "source": [
    "import sympy as sp\n",
    "Delta = sp.symbols('Delta')\n",
    "L1 = sp.symbols('L1')\n",
    "T_num = sp.symbols('T_num')\n",
    "T_den = sp.symbols('T_den')\n",
    "T_io = sp.symbols('T_io')\n",
    "G2,Y1,A,G0,Y3 = sp.symbols('G2,Y1,A,G0,Y3')\n",
    "\n",
    "loops = [(L1, -A*G0*G2/(Y1*Y3))]\n",
    "determinant = [(Delta, 1 - L1)]\n",
    "denominator = [(T_den, Delta)]\n",
    "\n",
    "P1,D1 = sp.symbols('P1,D1')\n",
    "paths = [(P1, 1/Y3), (D1, 1)]\n",
    "numerator = [(T_num, D1*P1)]\n",
    "\n",
    "transfer_function = [(T_io, T_num/T_den)]\n",
    "Z_o=T_io.subs(transfer_function).subs(numerator).subs(denominator).subs(determinant).subs(paths).subs(loops).simplify()\n",
    "display(Z_o)"
   ]
  },
  {
   "cell_type": "code",
   "execution_count": 16,
   "id": "0abe00c5",
   "metadata": {},
   "outputs": [],
   "source": [
    "G1,s,omega1 = sp.symbols('G1,s,omega1')\n",
    "dpa = [(Y1, G1+G2), (Y3, G0+G2)]\n",
    "amp = [(A,  omega1/s)]"
   ]
  },
  {
   "cell_type": "code",
   "execution_count": 17,
   "id": "6891c59a",
   "metadata": {},
   "outputs": [
    {
     "data": {
      "text/latex": [
       "$\\displaystyle \\frac{s \\left(G_{1} + G_{2}\\right)}{G_{0} G_{2} \\omega_{1} + s \\left(G_{0} + G_{2}\\right) \\left(G_{1} + G_{2}\\right)}$"
      ],
      "text/plain": [
       "s*(G1 + G2)/(G0*G2*omega1 + s*(G0 + G2)*(G1 + G2))"
      ]
     },
     "execution_count": 17,
     "metadata": {},
     "output_type": "execute_result"
    }
   ],
   "source": [
    "Z_o.subs(dpa).subs(amp).simplify()"
   ]
  },
  {
   "cell_type": "markdown",
   "id": "c4253ff4",
   "metadata": {},
   "source": [
    "Snubber network"
   ]
  },
  {
   "cell_type": "code",
   "execution_count": 18,
   "id": "1252bb7e",
   "metadata": {},
   "outputs": [],
   "source": [
    "G1,s,omega1,Y_L = sp.symbols('G1,s,omega1,Y_L')\n",
    "dpa = [(Y1, G1+G2), (Y3, G0+G2+Y_L)]\n",
    "amp = [(A,  omega1/s)]"
   ]
  },
  {
   "cell_type": "code",
   "execution_count": 19,
   "id": "1109aa42",
   "metadata": {},
   "outputs": [
    {
     "data": {
      "text/latex": [
       "$\\displaystyle \\frac{s \\left(G_{1} + G_{2}\\right)}{G_{0} G_{2} \\omega_{1} + s \\left(G_{1} + G_{2}\\right) \\left(G_{0} + G_{2} + Y_{L}\\right)}$"
      ],
      "text/plain": [
       "s*(G1 + G2)/(G0*G2*omega1 + s*(G1 + G2)*(G0 + G2 + Y_L))"
      ]
     },
     "execution_count": 19,
     "metadata": {},
     "output_type": "execute_result"
    }
   ],
   "source": [
    "Z_o.subs(dpa).subs(amp).simplify()"
   ]
  },
  {
   "cell_type": "code",
   "execution_count": 20,
   "id": "fca3f398",
   "metadata": {},
   "outputs": [],
   "source": [
    "C_L,C_s,G_s = sp.symbols('C_L,C_s,G_s')\n",
    "eq_YL = [(Y_L,  s*C_L + 1/(1/G_s+1/(s*C_s)) )]"
   ]
  },
  {
   "cell_type": "code",
   "execution_count": 21,
   "id": "cd1b482a",
   "metadata": {},
   "outputs": [
    {
     "data": {
      "text/latex": [
       "$\\displaystyle \\frac{s \\left(G_{1} + G_{2}\\right) \\left(C_{s} s + G_{s}\\right)}{G_{0} G_{2} \\omega_{1} \\left(C_{s} s + G_{s}\\right) + s \\left(G_{1} + G_{2}\\right) \\left(C_{s} G_{s} s + \\left(C_{s} s + G_{s}\\right) \\left(C_{L} s + G_{0} + G_{2}\\right)\\right)}$"
      ],
      "text/plain": [
       "s*(G1 + G2)*(C_s*s + G_s)/(G0*G2*omega1*(C_s*s + G_s) + s*(G1 + G2)*(C_s*G_s*s + (C_s*s + G_s)*(C_L*s + G0 + G2)))"
      ]
     },
     "execution_count": 21,
     "metadata": {},
     "output_type": "execute_result"
    }
   ],
   "source": [
    "Z_snub = Z_o.subs(dpa).subs(amp).subs(eq_YL).simplify()\n",
    "Z_snub"
   ]
  },
  {
   "cell_type": "code",
   "execution_count": 22,
   "id": "cd372eb4",
   "metadata": {},
   "outputs": [
    {
     "data": {
      "text/latex": [
       "$\\displaystyle \\frac{C_{s} s^{2} \\left(G_{1} + G_{2}\\right) + G_{s} s \\left(G_{1} + G_{2}\\right)}{C_{L} C_{s} s^{3} \\left(G_{1} + G_{2}\\right) + G_{0} G_{2} G_{s} \\omega_{1} + s^{2} \\left(G_{1} + G_{2}\\right) \\left(C_{L} G_{s} + C_{s} G_{0} + C_{s} G_{2} + C_{s} G_{s}\\right) + s \\left(C_{s} G_{0} G_{2} \\omega_{1} + G_{0} G_{1} G_{s} + G_{0} G_{2} G_{s} + G_{1} G_{2} G_{s} + G_{2}^{2} G_{s}\\right)}$"
      ],
      "text/plain": [
       "(C_s*s**2*(G1 + G2) + G_s*s*(G1 + G2))/(C_L*C_s*s**3*(G1 + G2) + G0*G2*G_s*omega1 + s**2*(G1 + G2)*(C_L*G_s + C_s*G0 + C_s*G2 + C_s*G_s) + s*(C_s*G0*G2*omega1 + G0*G1*G_s + G0*G2*G_s + G1*G2*G_s + G2**2*G_s))"
      ]
     },
     "execution_count": 22,
     "metadata": {},
     "output_type": "execute_result"
    }
   ],
   "source": [
    "niceT(Z_snub,s)"
   ]
  },
  {
   "cell_type": "code",
   "execution_count": null,
   "id": "0ea9fe70",
   "metadata": {},
   "outputs": [],
   "source": []
  }
 ],
 "metadata": {
  "kernelspec": {
   "display_name": "Python 3",
   "language": "python",
   "name": "python3"
  },
  "language_info": {
   "codemirror_mode": {
    "name": "ipython",
    "version": 3
   },
   "file_extension": ".py",
   "mimetype": "text/x-python",
   "name": "python",
   "nbconvert_exporter": "python",
   "pygments_lexer": "ipython3",
   "version": "3.8.8"
  }
 },
 "nbformat": 4,
 "nbformat_minor": 5
}

{
 "cells": [
  {
   "cell_type": "markdown",
   "id": "219bd03c",
   "metadata": {},
   "source": [
    "# Homework: $-KRC$ Filter\n",
    "Simon Burkhardt, FHNW/ISE, 12.05.2021"
   ]
  },
  {
   "cell_type": "code",
   "execution_count": 1,
   "id": "f350e5af",
   "metadata": {},
   "outputs": [],
   "source": [
    "%matplotlib notebook\n",
    "import sympy as sp\n",
    "import numpy as np\n",
    "import math\n",
    "import scipy as sc\n",
    "import scipy.signal\n",
    "import matplotlib.pyplot as plt\n",
    "import hanspitools as ht\n",
    "def niceT(T,s): # This is a shortcut for a functionality I use very often\n",
    "    return ht.mani.numden(lambda p: ht.mani.nicepoly(p,s),T)\n",
    "def keeper(f,v):\n",
    "    return sp.limit(f/v,v,sp.oo)*v"
   ]
  },
  {
   "cell_type": "markdown",
   "id": "35a4015d",
   "metadata": {},
   "source": [
    "<img src=\"KRC_Schematic.png\" alt=\"schematic\" width=\"800\"/>\n",
    "\n",
    "<img src=\"KRC_SFG.png\" alt=\"SFG\" width=\"900\"/>"
   ]
  },
  {
   "cell_type": "code",
   "execution_count": 28,
   "id": "11750336",
   "metadata": {},
   "outputs": [
    {
     "data": {
      "text/latex": [
       "$\\displaystyle \\frac{A G_{1} G_{2} G_{4} K}{A G_{2}^{2} G_{4} - A G_{2} G_{3} G_{4} K - A G_{4} Y_{1} Y_{2} + G_{2}^{2} K Y_{3} + G_{4}^{2} K Y_{1} - K Y_{1} Y_{2} Y_{3}}$"
      ],
      "text/plain": [
       "A*G1*G2*G4*K/(A*G2**2*G4 - A*G2*G3*G4*K - A*G4*Y1*Y2 + G2**2*K*Y3 + G4**2*K*Y1 - K*Y1*Y2*Y3)"
      ]
     },
     "metadata": {},
     "output_type": "display_data"
    }
   ],
   "source": [
    "import sympy as sp\n",
    "Delta = sp.symbols('Delta')\n",
    "L1,L2,L3,L4 = sp.symbols('L1,L2,L3,L4')\n",
    "T_num = sp.symbols('T_num')\n",
    "T_den = sp.symbols('T_den')\n",
    "T_io = sp.symbols('T_io')\n",
    "A,K,G1,Y3,G2,G3,Y2,Y1,G4 = sp.symbols('A,K,G1,Y3,G2,G3,Y2,Y1,G4')\n",
    "\n",
    "loops = [(L1, -A*G2*G3*G4/(Y1*Y2*Y3)), (L2, -A*G4/(K*Y3)), (L3, G2**2/(Y1*Y2)), (L4, G4**2/(Y2*Y3))]\n",
    "determinant = [(Delta, -L1 + L2*L3 - L2 - L3 - L4 + 1)]\n",
    "denominator = [(T_den, Delta)]\n",
    "\n",
    "P1,D1 = sp.symbols('P1,D1')\n",
    "paths = [(P1, -A*G1*G2*G4/(Y1*Y2*Y3)), (D1, 1)]\n",
    "numerator = [(T_num, D1*P1)]\n",
    "\n",
    "transfer_function = [(T_io, T_num/T_den)]\n",
    "T=T_io.subs(transfer_function).subs(numerator).subs(denominator).subs(determinant).subs(paths).subs(loops).simplify()\n",
    "display(T)"
   ]
  },
  {
   "cell_type": "code",
   "execution_count": 29,
   "id": "3e023878",
   "metadata": {},
   "outputs": [
    {
     "data": {
      "text/latex": [
       "$\\displaystyle \\frac{G^{2} K}{- C^{2} s^{2} - 5 C G s - G^{2} \\left(K + 5\\right)}$"
      ],
      "text/plain": [
       "G**2*K/(-C**2*s**2 - 5*C*G*s - G**2*(K + 5))"
      ]
     },
     "execution_count": 29,
     "metadata": {},
     "output_type": "execute_result"
    }
   ],
   "source": [
    "# Substitute the DP-Impedances \n",
    "# Substitute to only use equal components\n",
    "G,s,C1,C2,C=sp.symbols('G,s,C1,C2,C')\n",
    "eqY1 = [(Y1,G1+G2+G3+s*C1)]\n",
    "eqY2 = [(Y2,G2+G4+s*C2)]\n",
    "eqY3 = [(Y3, G4,)]\n",
    "\n",
    "Tio = T.subs(eqY1).subs(eqY2).subs(eqY3)\n",
    "Tio = Tio.subs([(G1,G),(G2,G),(G3,G),(G4,G)])\n",
    "Tio = Tio.subs([(C1, C),(C2,C)]).simplify()\n",
    "Tio = sp.limit(Tio,A,sp.oo)\n",
    "niceT(Tio,s)"
   ]
  },
  {
   "cell_type": "markdown",
   "id": "54d600ff",
   "metadata": {},
   "source": [
    "This is a 2nd order low pass filter, because there is an $s^2$ in the denominator and no $s$ in the numerator."
   ]
  },
  {
   "cell_type": "code",
   "execution_count": 30,
   "id": "9f78b6ff",
   "metadata": {},
   "outputs": [
    {
     "data": {
      "text/latex": [
       "$\\displaystyle - \\frac{C^{2} G^{2} K}{C^{2} s^{2} + 5 C G s + G^{2} \\left(K + 5\\right)}$"
      ],
      "text/plain": [
       "-C**2*G**2*K/(C**2*s**2 + 5*C*G*s + G**2*(K + 5))"
      ]
     },
     "execution_count": 30,
     "metadata": {},
     "output_type": "execute_result"
    }
   ],
   "source": [
    "# bring the denominator in the correct form\n",
    "gain = 1/(C**2)\n",
    "Tio_g = (Tio / gain).simplify()\n",
    "niceT(Tio_g,s)"
   ]
  },
  {
   "cell_type": "code",
   "execution_count": 24,
   "id": "0e353ba2",
   "metadata": {},
   "outputs": [
    {
     "data": {
      "text/latex": [
       "$\\displaystyle \\frac{G^{2} K}{s^{2} + \\frac{5 G s}{C} + \\frac{G^{2} \\left(K + 5\\right)}{C^{2}}}$"
      ],
      "text/plain": [
       "G**2*K/(s**2 + 5*G*s/C + G**2*(K + 5)/C**2)"
      ]
     },
     "execution_count": 24,
     "metadata": {},
     "output_type": "execute_result"
    }
   ],
   "source": [
    "# rewrite by hand and divide the denominator by C^2\n",
    "# to bring it into the form s^2 + wp/qp*s + wp^2*s\n",
    "Tio_g = (G**2*K)/(s**2 + 5*G/C*s + G**2/C**2*(K+5))\n",
    "Tio_g"
   ]
  },
  {
   "cell_type": "code",
   "execution_count": 6,
   "id": "bf000407",
   "metadata": {},
   "outputs": [
    {
     "data": {
      "text/latex": [
       "$\\displaystyle \\sqrt{\\frac{G^{2} K + 5 G^{2}}{C^{2}}}$"
      ],
      "text/plain": [
       "sqrt((G**2*K + 5*G**2)/C**2)"
      ]
     },
     "execution_count": 6,
     "metadata": {},
     "output_type": "execute_result"
    }
   ],
   "source": [
    "# extract the denominator and its coefficients\n",
    "num,den = sp.fraction(Tio_g)\n",
    "coeffs = sp.Poly(den,s).coeffs()\n",
    "# extract wp^2\n",
    "wp_2 = coeffs[2]\n",
    "wp = sp.sqrt(wp_2)\n",
    "wp"
   ]
  },
  {
   "cell_type": "code",
   "execution_count": 25,
   "id": "d1e886d3",
   "metadata": {},
   "outputs": [
    {
     "data": {
      "text/latex": [
       "$\\displaystyle \\frac{G \\sqrt{K + 5}}{C}$"
      ],
      "text/plain": [
       "G*sqrt(K + 5)/C"
      ]
     },
     "execution_count": 25,
     "metadata": {},
     "output_type": "execute_result"
    }
   ],
   "source": [
    "# rewrite the square root\n",
    "wp = G/C * sp.sqrt(K+5)\n",
    "wp"
   ]
  },
  {
   "cell_type": "code",
   "execution_count": 26,
   "id": "da1e8895",
   "metadata": {},
   "outputs": [
    {
     "data": {
      "text/latex": [
       "$\\displaystyle \\frac{\\sqrt{K + 5}}{5}$"
      ],
      "text/plain": [
       "sqrt(K + 5)/5"
      ]
     },
     "execution_count": 26,
     "metadata": {},
     "output_type": "execute_result"
    }
   ],
   "source": [
    "# with known wp: calculate qp next\n",
    "wp_qp = coeffs[1]\n",
    "qp = wp/wp_qp\n",
    "qp"
   ]
  },
  {
   "cell_type": "markdown",
   "id": "16ab1b9f",
   "metadata": {},
   "source": [
    "---\n",
    "\n",
    "### b) Design a low-pass fitler with $f_0=2kHz$, $Q=5$ and $0dB$ DC gain"
   ]
  },
  {
   "cell_type": "code",
   "execution_count": 27,
   "id": "c6bbcf21",
   "metadata": {},
   "outputs": [
    {
     "data": {
      "text/latex": [
       "$\\displaystyle \\frac{C^{2} G^{2} K}{\\omega_{p}^{2} + s^{2} + \\frac{\\omega_{p} s}{Q}}$"
      ],
      "text/plain": [
       "C**2*G**2*K/(omega_p**2 + s**2 + omega_p*s/Q)"
      ]
     },
     "execution_count": 27,
     "metadata": {},
     "output_type": "execute_result"
    }
   ],
   "source": [
    "# the full transfer function\n",
    "w_p,Q=sp.symbols('omega_p,Q')\n",
    "T_filt = (C**2*G**2*K)/(s**2 + w_p/Q*s + w_p**2)\n",
    "niceT(T_filt,s)"
   ]
  },
  {
   "cell_type": "code",
   "execution_count": 10,
   "id": "18def861",
   "metadata": {},
   "outputs": [
    {
     "data": {
      "text/latex": [
       "$\\displaystyle \\frac{C^{2} G^{2} K}{\\omega_{p}^{2}}$"
      ],
      "text/plain": [
       "C**2*G**2*K/omega_p**2"
      ]
     },
     "metadata": {},
     "output_type": "display_data"
    }
   ],
   "source": [
    "# \n",
    "w3db = 2*sp.pi*2e3;\n",
    "Qp = 5;\n",
    "# 1. condition at DC:\n",
    "# must be ==0 !\n",
    "display((C**2*G**2*K)/(w_p**2))\n",
    "eqDC = sp.Eq(1, (C**2*G**2*K)/(w_p**2))"
   ]
  },
  {
   "cell_type": "code",
   "execution_count": 11,
   "id": "bca4dc1e",
   "metadata": {},
   "outputs": [
    {
     "data": {
      "text/latex": [
       "$\\displaystyle \\frac{G \\sqrt{K + 5}}{C}$"
      ],
      "text/plain": [
       "G*sqrt(K + 5)/C"
      ]
     },
     "metadata": {},
     "output_type": "display_data"
    }
   ],
   "source": [
    "# 2. condition \n",
    "# wp must be 2pi 2kHz\n",
    "display(wp)\n",
    "eqWp = sp.Eq(w3db, wp)"
   ]
  },
  {
   "cell_type": "code",
   "execution_count": 12,
   "id": "a8c5ed1d",
   "metadata": {},
   "outputs": [
    {
     "data": {
      "text/plain": [
       "[]"
      ]
     },
     "execution_count": 12,
     "metadata": {},
     "output_type": "execute_result"
    }
   ],
   "source": [
    "# make assumptions about real world components\n",
    "sp.Q.positive(G)\n",
    "sp.Q.positive(C)\n",
    "sp.Q.positive(K)\n",
    "sp.Q.real(G)\n",
    "sp.Q.real(C)\n",
    "sp.Q.real(K)\n",
    "# pick a capacitor\n",
    "eqC = sp.Eq(C, 2e-6)\n",
    "# set omega_p\n",
    "eqWp = sp.Eq(wp, w3db)\n",
    "lsg = sp.solve([eqWp, eqWp, eqDC, eqC])\n",
    "lsg"
   ]
  },
  {
   "cell_type": "markdown",
   "id": "7174abbc",
   "metadata": {},
   "source": [
    "If DC gain = 1 is considered, no solution is found."
   ]
  },
  {
   "cell_type": "code",
   "execution_count": 13,
   "id": "3dd80088",
   "metadata": {},
   "outputs": [
    {
     "data": {
      "text/plain": [
       "[{C: 2.00000000000000e-6, G: 0.0112397035696652/sqrt(0.2*K + 1)}]"
      ]
     },
     "execution_count": 13,
     "metadata": {},
     "output_type": "execute_result"
    }
   ],
   "source": [
    "# ignore the DC-gain constraint\n",
    "eqWp = sp.Eq(wp, w3db)\n",
    "lsg = sp.solve([eqWp, eqWp, eqC])\n",
    "lsg"
   ]
  },
  {
   "cell_type": "code",
   "execution_count": 14,
   "id": "a1d9f233",
   "metadata": {},
   "outputs": [
    {
     "data": {
      "text/latex": [
       "$\\displaystyle \\frac{0.0112397035696652}{\\sqrt{0.2 K + 1}}$"
      ],
      "text/plain": [
       "0.0112397035696652/sqrt(0.2*K + 1)"
      ]
     },
     "execution_count": 14,
     "metadata": {},
     "output_type": "execute_result"
    }
   ],
   "source": [
    "lsg[0][G]"
   ]
  },
  {
   "cell_type": "markdown",
   "id": "b73fda88",
   "metadata": {},
   "source": [
    "In order for G to be a non-complex value, K must be $K>5$.\n",
    "\n",
    "Let us assume $K=620$ to find a close solution."
   ]
  },
  {
   "cell_type": "code",
   "execution_count": 19,
   "id": "8a0fc0d1",
   "metadata": {},
   "outputs": [
    {
     "data": {
      "text/plain": [
       "[{C: 2.00000000000000e-6, K: 620.000000000000, G: 0.00100530964914873}]"
      ]
     },
     "execution_count": 19,
     "metadata": {},
     "output_type": "execute_result"
    }
   ],
   "source": [
    "eqK = sp.Eq(K,620)\n",
    "lsg = sp.solve([eqWp, eqWp, eqK, eqC])\n",
    "lsg"
   ]
  },
  {
   "cell_type": "code",
   "execution_count": 20,
   "id": "1d9ecb08",
   "metadata": {},
   "outputs": [
    {
     "data": {
      "text/latex": [
       "$\\displaystyle 994.718394324346$"
      ],
      "text/plain": [
       "994.718394324346"
      ]
     },
     "execution_count": 20,
     "metadata": {},
     "output_type": "execute_result"
    }
   ],
   "source": [
    "R = 1/lsg[0][G].evalf()\n",
    "R"
   ]
  },
  {
   "cell_type": "markdown",
   "id": "35a6a110",
   "metadata": {},
   "source": [
    "These are $1k\\Omega$ resistors and the DC gain is now:"
   ]
  },
  {
   "cell_type": "code",
   "execution_count": 33,
   "id": "35e5e9df",
   "metadata": {},
   "outputs": [
    {
     "data": {
      "text/latex": [
       "$\\displaystyle 1.5872 \\cdot 10^{-23}$"
      ],
      "text/plain": [
       "1.58720000000000e-23"
      ]
     },
     "metadata": {},
     "output_type": "display_data"
    }
   ],
   "source": [
    "Cc=lsg[0][C].evalf()\n",
    "Gg=lsg[0][G].evalf()\n",
    "Kk=lsg[0][K].evalf()\n",
    "w_pp=w3db\n",
    "\n",
    "dcgain = (Cc**2*Gg**2*Kk)/(w_pp**2).evalf()\n",
    "display(dcgain)"
   ]
  },
  {
   "cell_type": "markdown",
   "id": "4d2c2c4a",
   "metadata": {},
   "source": [
    "this is wrong, Hanspi's solution gives $-\\frac{124}{125}$"
   ]
  },
  {
   "cell_type": "code",
   "execution_count": null,
   "id": "6b675812",
   "metadata": {},
   "outputs": [],
   "source": []
  }
 ],
 "metadata": {
  "kernelspec": {
   "display_name": "Python 3",
   "language": "python",
   "name": "python3"
  },
  "language_info": {
   "codemirror_mode": {
    "name": "ipython",
    "version": 3
   },
   "file_extension": ".py",
   "mimetype": "text/x-python",
   "name": "python",
   "nbconvert_exporter": "python",
   "pygments_lexer": "ipython3",
   "version": "3.8.8"
  }
 },
 "nbformat": 4,
 "nbformat_minor": 5
}

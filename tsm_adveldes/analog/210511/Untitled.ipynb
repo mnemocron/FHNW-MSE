{
 "cells": [
  {
   "cell_type": "code",
   "execution_count": 1,
   "id": "2cd4fc72",
   "metadata": {},
   "outputs": [],
   "source": [
    "%matplotlib notebook\n",
    "import sympy as sp\n",
    "import numpy as np\n",
    "import math\n",
    "import scipy as sc\n",
    "import scipy.signal\n",
    "import matplotlib.pyplot as plt\n",
    "import hanspitools as ht\n",
    "def niceT(T,s): # This is a shortcut for a functionality I use very often\n",
    "    return ht.mani.numden(lambda p: ht.mani.nicepoly(p,s),T)\n",
    "def keeper(f,v):\n",
    "    return sp.limit(f/v,v,sp.oo)*v"
   ]
  },
  {
   "cell_type": "code",
   "execution_count": 2,
   "id": "854bdb2f",
   "metadata": {},
   "outputs": [
    {
     "data": {
      "text/latex": [
       "$\\displaystyle - \\frac{G_{1} G_{2}}{G_{2}^{2} - \\left(C_{2} s + G_{2}\\right) \\left(C_{1} s + G_{1} + G_{2}\\right)}$"
      ],
      "text/plain": [
       "-G1*G2/(G2**2 - (C2*s + G2)*(C1*s + G1 + G2))"
      ]
     },
     "metadata": {},
     "output_type": "display_data"
    }
   ],
   "source": [
    "import sympy as sp\n",
    "Delta = sp.symbols('Delta')\n",
    "L1 = sp.symbols('L1')\n",
    "T_num = sp.symbols('T_num')\n",
    "T_den = sp.symbols('T_den')\n",
    "T_io = sp.symbols('T_io')\n",
    "s,C1,G2,G1,C2 = sp.symbols('s,C1,G2,G1,C2')\n",
    "\n",
    "loops = [(L1, G2**2/((C2*s + G2)*(C1*s + G1 + G2)))]\n",
    "determinant = [(Delta, 1 - L1)]\n",
    "denominator = [(T_den, Delta)]\n",
    "\n",
    "P1,D1 = sp.symbols('P1,D1')\n",
    "paths = [(P1, G1*G2/((C2*s + G2)*(C1*s + G1 + G2))), (D1, 1)]\n",
    "numerator = [(T_num, D1*P1)]\n",
    "\n",
    "transfer_function = [(T_io, T_num/T_den)]\n",
    "T=T_io.subs(transfer_function).subs(numerator).subs(denominator).subs(determinant).subs(paths).subs(loops).simplify()\n",
    "display(T)"
   ]
  },
  {
   "cell_type": "code",
   "execution_count": 4,
   "id": "862e1e39",
   "metadata": {},
   "outputs": [
    {
     "data": {
      "text/latex": [
       "$\\displaystyle - \\frac{G^{2}}{- C^{2} s^{2} - 3 C G s - G^{2}}$"
      ],
      "text/plain": [
       "-G**2/(-C**2*s**2 - 3*C*G*s - G**2)"
      ]
     },
     "execution_count": 4,
     "metadata": {},
     "output_type": "execute_result"
    }
   ],
   "source": [
    "C,G=sp.symbols('C,G')\n",
    "Tio = T.subs([(C1, C),(C2,C)]).simplify()\n",
    "Tio = Tio.subs([(G1, G),(G2,G)]).simplify()\n",
    "niceT(Tio,s)\n",
    "\n"
   ]
  },
  {
   "cell_type": "code",
   "execution_count": null,
   "id": "70f7e11d",
   "metadata": {},
   "outputs": [],
   "source": []
  }
 ],
 "metadata": {
  "kernelspec": {
   "display_name": "Python 3",
   "language": "python",
   "name": "python3"
  },
  "language_info": {
   "codemirror_mode": {
    "name": "ipython",
    "version": 3
   },
   "file_extension": ".py",
   "mimetype": "text/x-python",
   "name": "python",
   "nbconvert_exporter": "python",
   "pygments_lexer": "ipython3",
   "version": "3.8.8"
  }
 },
 "nbformat": 4,
 "nbformat_minor": 5
}

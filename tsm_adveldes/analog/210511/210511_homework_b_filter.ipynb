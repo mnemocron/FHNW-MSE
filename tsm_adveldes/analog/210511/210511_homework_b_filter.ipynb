{
 "cells": [
  {
   "cell_type": "markdown",
   "id": "cee14d34",
   "metadata": {},
   "source": [
    "# Homework: b)\n",
    "Simon Burkhardt, FHNW/ISE, 12.05.2021"
   ]
  },
  {
   "cell_type": "code",
   "execution_count": 3,
   "id": "968464eb",
   "metadata": {},
   "outputs": [],
   "source": [
    "%matplotlib notebook\n",
    "import sympy as sp\n",
    "import numpy as np\n",
    "import math\n",
    "import scipy as sc\n",
    "import scipy.signal\n",
    "import matplotlib.pyplot as plt\n",
    "import hanspitools as ht\n",
    "def niceT(T,s): # This is a shortcut for a functionality I use very often\n",
    "    return ht.mani.numden(lambda p: ht.mani.nicepoly(p,s),T)\n",
    "def keeper(f,v):\n",
    "    return sp.limit(f/v,v,sp.oo)*v"
   ]
  },
  {
   "cell_type": "code",
   "execution_count": 43,
   "id": "2ef82a7f",
   "metadata": {},
   "outputs": [
    {
     "data": {
      "text/latex": [
       "$\\displaystyle \\frac{A^{2} G^{2} Z_{1} Z_{3}}{A^{2} G Z_{3} + n \\left(A^{2} C^{2} Z_{1} Z_{3} s^{2} + A C Z_{1} s + A C Z_{3} s + 1\\right)}$"
      ],
      "text/plain": [
       "A**2*G**2*Z1*Z3/(A**2*G*Z3 + n*(A**2*C**2*Z1*Z3*s**2 + A*C*Z1*s + A*C*Z3*s + 1))"
      ]
     },
     "metadata": {},
     "output_type": "display_data"
    }
   ],
   "source": [
    "import sympy as sp\n",
    "Delta = sp.symbols('Delta')\n",
    "L1,L2,L3 = sp.symbols('L1,L2,L3')\n",
    "T_num = sp.symbols('T_num')\n",
    "T_den = sp.symbols('T_den')\n",
    "T_io = sp.symbols('T_io')\n",
    "A,G,n,Z1,s,C,Z3 = sp.symbols('A,G,n,Z1,s,C,Z3')\n",
    "\n",
    "loops = [(L1, -A**2*G*Z3/n), (L2, -A*C*Z1*s), (L3, -A*C*Z3*s)]\n",
    "determinant = [(Delta, -L1 + L2*L3 - L2 - L3 + 1)]\n",
    "denominator = [(T_den, Delta)]\n",
    "\n",
    "P1,D1 = sp.symbols('P1,D1')\n",
    "paths = [(P1, A**2*G**2*Z1*Z3/n), (D1, 1)]\n",
    "numerator = [(T_num, D1*P1)]\n",
    "\n",
    "transfer_function = [(T_io, T_num/T_den)]\n",
    "T=T_io.subs(transfer_function).subs(numerator).subs(denominator).subs(determinant).subs(paths).subs(loops).simplify()\n",
    "display(T)"
   ]
  },
  {
   "cell_type": "code",
   "execution_count": 45,
   "id": "55c02b96",
   "metadata": {},
   "outputs": [
    {
     "data": {
      "text/latex": [
       "$\\displaystyle \\frac{G^{2} m}{C^{2} m n s^{2} + C G m s + G^{2} \\left(m + 1\\right)}$"
      ],
      "text/plain": [
       "G**2*m/(C**2*m*n*s**2 + C*G*m*s + G**2*(m + 1))"
      ]
     },
     "metadata": {},
     "output_type": "display_data"
    }
   ],
   "source": [
    "Z1,Z2,Y1,Y2,Y3,w1,m,A,omega1,tau=sp.symbols('Z1,Z2,Y1,Y2,Y3,w1,m,A,omega1,tau')\n",
    "eqY1 = [(Y1, G+G/m+s*C)]\n",
    "eqY2 = [(Y2, s*C+G/n)]\n",
    "eqY3 = [(Y3, s*C)]\n",
    "eqZ1 = [(Z1, 1/Y1)]\n",
    "eqZ2 = [(Z2, 1/Y2)]\n",
    "eqZ3 = [(Z3, 1/Y3)]\n",
    "Amp1 = [(A1,A)]\n",
    "Amp2 = [(A2,A)]\n",
    "Gain = [(A, omega1/s)]\n",
    "taut = [(R*C, tau)]\n",
    "\n",
    "TLP = T.subs(eqZ1).subs(eqZ3).subs(eqZ3).subs(eqY1).subs(eqY2).subs(eqY3).simplify()\n",
    "\n",
    "TLP = sp.limit(TLP, A, sp.oo)\n",
    "display(niceT(TLP,s))\n"
   ]
  },
  {
   "cell_type": "code",
   "execution_count": 52,
   "id": "6a62dd2d",
   "metadata": {},
   "outputs": [
    {
     "data": {
      "text/latex": [
       "$\\displaystyle s^{2} + \\frac{G s}{C n} + \\frac{G^{2} \\left(m + 1\\right)}{C^{2} m n}$"
      ],
      "text/plain": [
       "s**2 + G*s/(C*n) + G**2*(m + 1)/(C**2*m*n)"
      ]
     },
     "execution_count": 52,
     "metadata": {},
     "output_type": "execute_result"
    }
   ],
   "source": [
    "num,den = sp.fraction(TLP)\n",
    "gain = C*C*m*n\n",
    "\n",
    "Delta_s = (den/gain).simplify()\n",
    "niceT(Delta_s,s)\n"
   ]
  },
  {
   "cell_type": "code",
   "execution_count": 58,
   "id": "8708758f",
   "metadata": {},
   "outputs": [
    {
     "data": {
      "text/latex": [
       "$\\displaystyle \\sqrt{\\frac{G^{2} m + G^{2}}{C^{2} m n}}$"
      ],
      "text/plain": [
       "sqrt((G**2*m + G**2)/(C**2*m*n))"
      ]
     },
     "execution_count": 58,
     "metadata": {},
     "output_type": "execute_result"
    }
   ],
   "source": [
    "coeffs = sp.Poly(Delta_s,s).coeffs()\n",
    "wp_2 = coeffs[2]\n",
    "wp = sp.sqrt(wp_2)\n",
    "wp\n"
   ]
  },
  {
   "cell_type": "code",
   "execution_count": 61,
   "id": "1c7bb546",
   "metadata": {},
   "outputs": [
    {
     "data": {
      "text/latex": [
       "$\\displaystyle \\frac{G \\sqrt{\\frac{m + 1}{m n}}}{C}$"
      ],
      "text/plain": [
       "G*sqrt((m + 1)/(m*n))/C"
      ]
     },
     "execution_count": 61,
     "metadata": {},
     "output_type": "execute_result"
    }
   ],
   "source": [
    "wp = G /C * sp.sqrt((m+1)/(m*n))\n",
    "wp.simplify()"
   ]
  },
  {
   "cell_type": "code",
   "execution_count": 64,
   "id": "f88f763f",
   "metadata": {},
   "outputs": [
    {
     "data": {
      "text/latex": [
       "$\\displaystyle \\frac{G}{C n}$"
      ],
      "text/plain": [
       "G/(C*n)"
      ]
     },
     "execution_count": 64,
     "metadata": {},
     "output_type": "execute_result"
    }
   ],
   "source": [
    "wp_qp = coeffs[1]\n",
    "wp_qp"
   ]
  },
  {
   "cell_type": "code",
   "execution_count": 66,
   "id": "3bc8756a",
   "metadata": {},
   "outputs": [
    {
     "data": {
      "text/latex": [
       "$\\displaystyle n \\sqrt{\\frac{m + 1}{m n}}$"
      ],
      "text/plain": [
       "n*sqrt((m + 1)/(m*n))"
      ]
     },
     "execution_count": 66,
     "metadata": {},
     "output_type": "execute_result"
    }
   ],
   "source": [
    "qp = wp/wp_qp\n",
    "qp"
   ]
  },
  {
   "cell_type": "code",
   "execution_count": 70,
   "id": "fcebd4dc",
   "metadata": {},
   "outputs": [
    {
     "data": {
      "text/latex": [
       "$\\displaystyle \\frac{G^{2} \\left(m + 1\\right)}{s^{2} + \\frac{G}{C n} + \\frac{G^{2} \\left(m + 1\\right)}{C^{2} m n}}$"
      ],
      "text/plain": [
       "G**2*(m + 1)/(s**2 + G/(C*n) + G**2*(m + 1)/(C**2*m*n))"
      ]
     },
     "execution_count": 70,
     "metadata": {},
     "output_type": "execute_result"
    }
   ],
   "source": [
    "TLP = gain * (wp**2) / ( s**2 + wp/qp + wp**2)\n",
    "TLP"
   ]
  },
  {
   "cell_type": "markdown",
   "id": "9233f22b",
   "metadata": {},
   "source": [
    "-----\n",
    "\n",
    "### Bandpass"
   ]
  },
  {
   "cell_type": "code",
   "execution_count": 78,
   "id": "a4499242",
   "metadata": {},
   "outputs": [
    {
     "data": {
      "text/latex": [
       "$\\displaystyle - \\frac{A G Z_{1} n \\left(A C Z_{3} s + 1\\right)}{A^{2} G Z_{3} + n \\left(A^{2} C^{2} Z_{1} Z_{3} s^{2} + A C Z_{1} s + A C Z_{3} s + 1\\right)}$"
      ],
      "text/plain": [
       "-A*G*Z1*n*(A*C*Z3*s + 1)/(A**2*G*Z3 + n*(A**2*C**2*Z1*Z3*s**2 + A*C*Z1*s + A*C*Z3*s + 1))"
      ]
     },
     "metadata": {},
     "output_type": "display_data"
    }
   ],
   "source": [
    "import sympy as sp\n",
    "Delta = sp.symbols('Delta')\n",
    "L1,L2,L3 = sp.symbols('L1,L2,L3')\n",
    "T_num = sp.symbols('T_num')\n",
    "T_den = sp.symbols('T_den')\n",
    "T_io = sp.symbols('T_io')\n",
    "A,G,n,Z1,s,C,Z3 = sp.symbols('A,G,n,Z1,s,C,Z3')\n",
    "\n",
    "loops = [(L1, -A**2*G*Z3/n), (L2, -A*C*Z1*s), (L3, -A*C*Z3*s)]\n",
    "determinant = [(Delta, -L1 + L2*L3 - L2 - L3 + 1)]\n",
    "denominator = [(T_den, Delta)]\n",
    "\n",
    "P1,D1 = sp.symbols('P1,D1')\n",
    "paths = [(P1, -A*G*Z1), (D1, 1 - L3)]\n",
    "numerator = [(T_num, D1*P1)]\n",
    "\n",
    "transfer_function = [(T_io, T_num/T_den)]\n",
    "T=T_io.subs(transfer_function).subs(numerator).subs(denominator).subs(determinant).subs(paths).subs(loops).simplify()\n",
    "display(T)"
   ]
  },
  {
   "cell_type": "code",
   "execution_count": 79,
   "id": "1131b1ef",
   "metadata": {},
   "outputs": [
    {
     "data": {
      "text/latex": [
       "$\\displaystyle - \\frac{C G m n s}{C^{2} m n s^{2} + C G m s + G^{2} \\left(m + 1\\right)}$"
      ],
      "text/plain": [
       "-C*G*m*n*s/(C**2*m*n*s**2 + C*G*m*s + G**2*(m + 1))"
      ]
     },
     "metadata": {},
     "output_type": "display_data"
    }
   ],
   "source": [
    "TBP = T.subs(eqZ1).subs(eqZ3).subs(eqZ3).subs(eqY1).subs(eqY2).subs(eqY3).simplify()\n",
    "\n",
    "TBP = sp.limit(TBP, A, sp.oo)\n",
    "display(niceT(TBP,s))"
   ]
  },
  {
   "cell_type": "code",
   "execution_count": 80,
   "id": "bdae9da8",
   "metadata": {},
   "outputs": [
    {
     "data": {
      "text/latex": [
       "$\\displaystyle \\frac{C G m n \\sqrt{\\frac{m + 1}{m n}}}{s^{2} + \\frac{G}{C n} + \\frac{G^{2} \\left(m + 1\\right)}{C^{2} m n}}$"
      ],
      "text/plain": [
       "C*G*m*n*sqrt((m + 1)/(m*n))/(s**2 + G/(C*n) + G**2*(m + 1)/(C**2*m*n))"
      ]
     },
     "execution_count": 80,
     "metadata": {},
     "output_type": "execute_result"
    }
   ],
   "source": [
    "TBP = gain * (wp) / ( s**2 + wp/qp + wp**2)\n",
    "TBP"
   ]
  },
  {
   "cell_type": "markdown",
   "id": "314d7100",
   "metadata": {},
   "source": [
    "---\n",
    "\n",
    "### Noise Transfer Function"
   ]
  },
  {
   "cell_type": "code",
   "execution_count": 102,
   "id": "6d9fdb92",
   "metadata": {},
   "outputs": [
    {
     "data": {
      "text/latex": [
       "$\\displaystyle - \\frac{A^{2} G Z_{3}}{A^{2} G Z_{3} + n \\left(A^{2} C^{2} Z_{1} Z_{3} s^{2} + A C Z_{1} s + A C Z_{3} s + 1\\right)}$"
      ],
      "text/plain": [
       "-A**2*G*Z3/(A**2*G*Z3 + n*(A**2*C**2*Z1*Z3*s**2 + A*C*Z1*s + A*C*Z3*s + 1))"
      ]
     },
     "metadata": {},
     "output_type": "display_data"
    }
   ],
   "source": [
    "import sympy as sp\n",
    "Delta = sp.symbols('Delta')\n",
    "L1,L2,L3 = sp.symbols('L1,L2,L3')\n",
    "T_num = sp.symbols('T_num')\n",
    "T_den = sp.symbols('T_den')\n",
    "T_io = sp.symbols('T_io')\n",
    "A,G,n,Z1,s,C,Z3 = sp.symbols('A,G,n,Z1,s,C,Z3')\n",
    "\n",
    "loops = [(L1, -A**2*G*Z3/n), (L2, -A*C*Z1*s), (L3, -A*C*Z3*s)]\n",
    "determinant = [(Delta, -L1 + L2*L3 - L2 - L3 + 1)]\n",
    "denominator = [(T_den, Delta)]\n",
    "\n",
    "P1,D1 = sp.symbols('P1,D1')\n",
    "paths = [(P1, -A**2*G*Z3/n), (D1, 1)]\n",
    "numerator = [(T_num, D1*P1)]\n",
    "\n",
    "transfer_function = [(T_io, T_num/T_den)]\n",
    "T=T_io.subs(transfer_function).subs(numerator).subs(denominator).subs(determinant).subs(paths).subs(loops).simplify()\n",
    "display(T)"
   ]
  },
  {
   "cell_type": "code",
   "execution_count": 116,
   "id": "ca77cff7",
   "metadata": {},
   "outputs": [
    {
     "data": {
      "text/latex": [
       "$\\displaystyle \\frac{- C G s - G^{2} md}{C^{2} n s^{2} + C G s + G^{2} md}$"
      ],
      "text/plain": [
       "(-C*G*s - G**2*md)/(C**2*n*s**2 + C*G*s + G**2*md)"
      ]
     },
     "metadata": {},
     "output_type": "display_data"
    }
   ],
   "source": [
    "Tn1 = T.subs(eqZ1).subs(eqZ3).subs(eqZ3).subs(eqY1).subs(eqY2).subs(eqY3).simplify()\n",
    "Tn1 = sp.limit(Tn1, A, sp.oo)\n",
    "md = sp.symbols('md')\n",
    "eqms = [(m, 1/(md-1))]\n",
    "Tn1 = Tn1.subs(eqms).simplify()\n",
    "display(niceT(Tn1,s))"
   ]
  },
  {
   "cell_type": "markdown",
   "id": "6b950ecb",
   "metadata": {},
   "source": []
  },
  {
   "cell_type": "code",
   "execution_count": 100,
   "id": "ce172523",
   "metadata": {},
   "outputs": [
    {
     "data": {
      "text/latex": [
       "$\\displaystyle \\frac{A n \\left(A C Z_{1} s + 1\\right)}{A^{2} G Z_{3} + n \\left(A^{2} C^{2} Z_{1} Z_{3} s^{2} + A C Z_{1} s + A C Z_{3} s + 1\\right)}$"
      ],
      "text/plain": [
       "A*n*(A*C*Z1*s + 1)/(A**2*G*Z3 + n*(A**2*C**2*Z1*Z3*s**2 + A*C*Z1*s + A*C*Z3*s + 1))"
      ]
     },
     "metadata": {},
     "output_type": "display_data"
    }
   ],
   "source": [
    "import sympy as sp\n",
    "Delta = sp.symbols('Delta')\n",
    "L1,L2,L3 = sp.symbols('L1,L2,L3')\n",
    "T_num = sp.symbols('T_num')\n",
    "T_den = sp.symbols('T_den')\n",
    "T_io = sp.symbols('T_io')\n",
    "A,G,n,Z1,s,C,Z3 = sp.symbols('A,G,n,Z1,s,C,Z3')\n",
    "\n",
    "loops = [(L1, -A**2*G*Z3/n), (L2, -A*C*Z1*s), (L3, -A*C*Z3*s)]\n",
    "determinant = [(Delta, -L1 + L2*L3 - L2 - L3 + 1)]\n",
    "denominator = [(T_den, Delta)]\n",
    "\n",
    "P1,D1 = sp.symbols('P1,D1')\n",
    "paths = [(P1, A), (D1, 1 - L2)]\n",
    "numerator = [(T_num, D1*P1)]\n",
    "\n",
    "transfer_function = [(T_io, T_num/T_den)]\n",
    "T=T_io.subs(transfer_function).subs(numerator).subs(denominator).subs(determinant).subs(paths).subs(loops).simplify()\n",
    "display(T)"
   ]
  },
  {
   "cell_type": "code",
   "execution_count": 101,
   "id": "c27e54bf",
   "metadata": {},
   "outputs": [
    {
     "data": {
      "text/latex": [
       "$\\displaystyle \\frac{s^{2}}{C^{2} m n s^{2} + C G m s + G^{2} \\left(m + 1\\right)}$"
      ],
      "text/plain": [
       "s**2/(C**2*m*n*s**2 + C*G*m*s + G**2*(m + 1))"
      ]
     },
     "metadata": {},
     "output_type": "display_data"
    }
   ],
   "source": [
    "Tn2 = T.subs(eqZ1).subs(eqZ3).subs(eqZ3).subs(eqY1).subs(eqY2).subs(eqY3).simplify()\n",
    "Tn2 = sp.limit(Tn2, A, sp.oo)/gain\n",
    "display(niceT(Tn2,s))"
   ]
  },
  {
   "cell_type": "code",
   "execution_count": null,
   "id": "10b2d76f",
   "metadata": {},
   "outputs": [],
   "source": []
  }
 ],
 "metadata": {
  "kernelspec": {
   "display_name": "Python 3",
   "language": "python",
   "name": "python3"
  },
  "language_info": {
   "codemirror_mode": {
    "name": "ipython",
    "version": 3
   },
   "file_extension": ".py",
   "mimetype": "text/x-python",
   "name": "python",
   "nbconvert_exporter": "python",
   "pygments_lexer": "ipython3",
   "version": "3.8.8"
  }
 },
 "nbformat": 4,
 "nbformat_minor": 5
}
